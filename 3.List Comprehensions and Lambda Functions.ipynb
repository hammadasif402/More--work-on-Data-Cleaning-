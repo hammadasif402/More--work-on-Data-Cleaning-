{
 "cells": [
  {
   "cell_type": "markdown",
   "metadata": {},
   "source": [
    "The data set we'll use, is in a format called **JavaScript Object Notation (JSON)**. As the name indicates, JSON originated from the JavaScript language, but has now become a language-independent format."
   ]
  },
  {
   "cell_type": "markdown",
   "metadata": {},
   "source": [
    "From a Python perspective, **JSON** can be thought as a collection of Python objects nested inside each other."
   ]
  },
  {
   "cell_type": "code",
   "execution_count": 4,
   "metadata": {},
   "outputs": [
    {
     "data": {
      "text/plain": [
       "'[{\"team_1\": \"France\",\\n         \"team_2\": \"Croatia\",\\n        \"game_type\": \"Final\",\\n        \"score\" : [4, 2]\\n        },\\n    {\\n        \"team_1\": \"Belgium\",\\n        \"team_2\": \"England\",\\n        \"game_type\": \"3rd/4th Playoff\",\\n        \"score\" : [2, 0]\\n    }]'"
      ]
     },
     "execution_count": 4,
     "metadata": {},
     "output_type": "execute_result"
    }
   ],
   "source": [
    "\"\"\"[{\"team_1\": \"France\",\n",
    "         \"team_2\": \"Croatia\",\n",
    "        \"game_type\": \"Final\",\n",
    "        \"score\" : [4, 2]\n",
    "        },\n",
    "    {\n",
    "        \"team_1\": \"Belgium\",\n",
    "        \"team_2\": \"England\",\n",
    "        \"game_type\": \"3rd/4th Playoff\",\n",
    "        \"score\" : [2, 0]\n",
    "    }]\"\"\""
   ]
  },
  {
   "cell_type": "markdown",
   "metadata": {},
   "source": [
    "The `JSON` above is a list, where each element in the list is a dictionary. Each of the dictionaries have the same keys, and one of the values of each dictionary is itself a list.\n",
    "\n",
    "\n",
    "The Python `json` [module](https://docs.python.org/3.7/library/json.html#module-json) contains a number of functions to make working with JSON objects easier. We can use the `json.loads()` method to convert JSON data contained in a string to the equivalent set of Python objects:"
   ]
  },
  {
   "cell_type": "code",
   "execution_count": 3,
   "metadata": {},
   "outputs": [
    {
     "name": "stdout",
     "output_type": "stream",
     "text": [
      "[\n",
      "{ \"team_1\": \"France\", \"team_2\": \"Croatia\", \"game_type\": \"Final\",\"score\" : [4, 2]},\n",
      "{\"team_1\": \"Belgium\",\"team_2\": \"England\",\"game_type\": \"3rd/4th Playoff\",\"score\" : [2, 0]}\n",
      "]\n"
     ]
    }
   ],
   "source": [
    "json_string = \"\"\"[\n",
    "{ \"team_1\": \"France\", \"team_2\": \"Croatia\", \"game_type\": \"Final\",\"score\" : [4, 2]},\n",
    "{\"team_1\": \"Belgium\",\"team_2\": \"England\",\"game_type\": \"3rd/4th Playoff\",\"score\" : [2, 0]}\n",
    "]\"\"\"\n",
    "\n",
    "print(json_string)"
   ]
  },
  {
   "cell_type": "code",
   "execution_count": 34,
   "metadata": {},
   "outputs": [
    {
     "data": {
      "text/plain": [
       "[{'team_1': 'France',\n",
       "  'team_2': 'Croatia',\n",
       "  'game_type': 'Final',\n",
       "  'score': [4, 2]},\n",
       " {'team_1': 'Belgium',\n",
       "  'team_2': 'England',\n",
       "  'game_type': '3rd/4th Playoff',\n",
       "  'score': [2, 0]}]"
      ]
     },
     "execution_count": 34,
     "metadata": {},
     "output_type": "execute_result"
    }
   ],
   "source": [
    "import json\n",
    "\n",
    "python_obj = json.loads(json_string)\n",
    "python_obj "
   ]
  },
  {
   "cell_type": "markdown",
   "metadata": {},
   "source": [
    "We can observe a few things:\n",
    "\n",
    "* The formatting from our original string is gone. This is because printing Python lists and dictionaries has a simple formatting structure.\n",
    "* The order of the keys in the dictionary have changed. This is because (prior to version 3.6) Python dictionaries don't have fixed order."
   ]
  },
  {
   "cell_type": "markdown",
   "metadata": {},
   "source": [
    "One of the places where the `JSON format` is commonly used is in the results returned by an **Application programming interface (API)**. **APIs** are interfaces that can be used to send and transmit data between different computer systems. "
   ]
  },
  {
   "cell_type": "markdown",
   "metadata": {},
   "source": [
    "The data set **hn_2014.json** was downloaded from the **Hacker News API**. It's a different set of data from the CSV and it contains data about stories from Hacker News in 2014."
   ]
  },
  {
   "cell_type": "markdown",
   "metadata": {},
   "source": [
    "To read a file from JSON format, we use the `json.load()` function. Note that the function is `json.load()` without an `\"s\"` at the end. The `json.loads()` function is used for loading JSON data from a string (`\"loads\"` is short for `\"load string\"`), whereas the `json.load()` function is used to load from a file object. "
   ]
  },
  {
   "cell_type": "code",
   "execution_count": 35,
   "metadata": {},
   "outputs": [],
   "source": [
    "with open(\"hn_2014.json\") as f:\n",
    "    hn = json.load(f)"
   ]
  },
  {
   "cell_type": "code",
   "execution_count": 36,
   "metadata": {},
   "outputs": [
    {
     "name": "stdout",
     "output_type": "stream",
     "text": [
      "[{'author': 'dragongraphics', 'numComments': 0, 'points': 2, 'url': 'http://ashleynolan.co.uk/blog/are-we-getting-too-sassy', 'storyText': '', 'createdAt': '2014-05-29T08:07:50Z', 'tags': ['story', 'author_dragongraphics', 'story_7815238'], 'createdAtI': 1401350870, 'title': 'Are we getting too Sassy? Weighing up micro-optimisation vs. maintainability', 'objectId': '7815238'}, {'author': 'jcr', 'numComments': 0, 'points': 1, 'url': 'http://spectrum.ieee.org/automaton/robotics/home-robots/telemba-telepresence-robot', 'storyText': '', 'createdAt': '2014-05-29T08:05:58Z', 'tags': ['story', 'author_jcr', 'story_7815234'], 'createdAtI': 1401350758, 'title': 'Telemba Turns Your Old Roomba and Tablet Into a Telepresence Robot', 'objectId': '7815234'}]\n"
     ]
    }
   ],
   "source": [
    "print(hn[:2])"
   ]
  },
  {
   "cell_type": "code",
   "execution_count": 37,
   "metadata": {},
   "outputs": [
    {
     "name": "stdout",
     "output_type": "stream",
     "text": [
      "35806\n",
      "<class 'list'>\n",
      "<class 'dict'>\n"
     ]
    }
   ],
   "source": [
    "print(len(hn))\n",
    "print(type(hn))\n",
    "print(type(hn[0]))"
   ]
  },
  {
   "cell_type": "markdown",
   "metadata": {},
   "source": [
    "Our `hn` variable is a list and the type of the first object (which will almost always be the type of every object in the list in JSON data):"
   ]
  },
  {
   "cell_type": "markdown",
   "metadata": {},
   "source": [
    "Here is a summary of the keys and the data that they contain:\n",
    "\n",
    "* `author`: The username of the person who submitted the story.\n",
    "* `createdAt`: The date and time at which the story was created.\n",
    "* `createdAtI`: An integer value representing the date and time at which the story was created.\n",
    "* `numComments`: The number of comments that were made on the story.\n",
    "* `objectId`: The unique identifier from Hacker News for the story.\n",
    "* `points`: The number of points the story acquired, calculated as the total number of upvotes minus the total number of downvotes.\n",
    "* `storyText`: The text of the story (if the story contains text).\n",
    "* `tags`: A list of tags associated with the story.\n",
    "* `title`: The title of the story.\n",
    "* `url`: The URL that the story links to (if the story links to a URL)."
   ]
  },
  {
   "cell_type": "code",
   "execution_count": 38,
   "metadata": {},
   "outputs": [],
   "source": [
    "# creating a function that delete particular key\n",
    "\n",
    "def del_key(dict_, key):\n",
    "    # create a copy so we don't\n",
    "    # modify the original dict\n",
    "    modified_dict = dict_.copy()\n",
    "    del modified_dict[key]\n",
    "    return modified_dict"
   ]
  },
  {
   "cell_type": "code",
   "execution_count": 39,
   "metadata": {},
   "outputs": [],
   "source": [
    "clean_hn = []\n",
    "for d in hn:\n",
    "    clean_hn.append(del_key(d,'createdAtI'))   "
   ]
  },
  {
   "cell_type": "markdown",
   "metadata": {},
   "source": [
    "**List Comprehensions**. A list comprehension provides a concise way of creating lists in a single line of code."
   ]
  },
  {
   "cell_type": "markdown",
   "metadata": {},
   "source": [
    "To transform this structure into a list comprehension, we do the following within brackets:\n",
    "\n",
    "* Start with the code that transforms each item.\n",
    "* Continue with our for statement (without a colon).\n",
    "\n",
    "We can then assign the list comprehension to a variable name."
   ]
  },
  {
   "cell_type": "markdown",
   "metadata": {},
   "source": [
    "The \"transformation\" step of our list comprehension can be anything, including a function or method."
   ]
  },
  {
   "cell_type": "code",
   "execution_count": 40,
   "metadata": {},
   "outputs": [],
   "source": [
    "hn_clean = [del_key(d,'createdAtI') for d in hn]\n"
   ]
  },
  {
   "cell_type": "markdown",
   "metadata": {},
   "source": [
    "List comprehensions can be used for many different things. Three common applications are:\n",
    "\n",
    "1. Transforming a list\n",
    "2. Creating a new list\n",
    "3. Reducing a list"
   ]
  },
  {
   "cell_type": "code",
   "execution_count": 41,
   "metadata": {},
   "outputs": [
    {
     "data": {
      "text/plain": [
       "['http://ashleynolan.co.uk/blog/are-we-getting-too-sassy',\n",
       " 'http://spectrum.ieee.org/automaton/robotics/home-robots/telemba-telepresence-robot']"
      ]
     },
     "execution_count": 41,
     "metadata": {},
     "output_type": "execute_result"
    }
   ],
   "source": [
    "# list comprehension to extract the url value from each dictionary in hn_clean\n",
    "urls = [d[\"url\"] for d in hn_clean]\n",
    "urls[:2]\n"
   ]
  },
  {
   "cell_type": "markdown",
   "metadata": {},
   "source": [
    "To include an if statement in a list comprehension, we include it at the very end, before the closing bracket:"
   ]
  },
  {
   "cell_type": "code",
   "execution_count": 42,
   "metadata": {},
   "outputs": [],
   "source": [
    "thousand_points = [d for d in hn_clean if d['points']>1000]\n",
    "num_thousand_points = len(thousand_points)"
   ]
  },
  {
   "cell_type": "markdown",
   "metadata": {},
   "source": [
    "There is a way we can actually tell functions like `min()`, `max()`, and `sorted()` how to sort complex objects like dictionaries and lists of lists. We do this by using the optional `key` argument."
   ]
  },
  {
   "cell_type": "markdown",
   "metadata": {},
   "source": [
    "The parentheses are what tells Python to execute the function, so if we omit the parentheses we can treat a function like a variable"
   ]
  },
  {
   "cell_type": "code",
   "execution_count": 43,
   "metadata": {},
   "outputs": [
    {
     "data": {
      "text/plain": [
       "{'author': 'platz',\n",
       " 'numComments': 1208,\n",
       " 'points': 889,\n",
       " 'url': 'https://blog.mozilla.org/blog/2014/04/03/brendan-eich-steps-down-as-mozilla-ceo/',\n",
       " 'storyText': None,\n",
       " 'createdAt': '2014-04-03T19:02:53Z',\n",
       " 'tags': ['story', 'author_platz', 'story_7525198'],\n",
       " 'title': 'Brendan Eich Steps Down as Mozilla CEO',\n",
       " 'objectId': '7525198'}"
      ]
     },
     "execution_count": 43,
     "metadata": {},
     "output_type": "execute_result"
    }
   ],
   "source": [
    "# Creating a \"key function\" that accepts a single dictionary and returns the value from the numComments key.\n",
    "\n",
    "def get_num_comments(dictionary):\n",
    "    return dictionary['numComments']\n",
    "    \n",
    "# Use the max() function to find the value from the hn_clean list with the most comments:\n",
    "most_comments = max(hn_clean, key = get_num_comments ) # max, min, sorted function take iterate object\n",
    "most_comments"
   ]
  },
  {
   "cell_type": "markdown",
   "metadata": {},
   "source": [
    "Usually, we create functions when we want to perform the same task many times.\n",
    "\n",
    "Python provides a special syntax to create `temporary` functions to use just once. These functions are called **lambda functions**. Lambda functions can be defined in a single line, which allows us to define a function we want to pass as an argument at the time we need it."
   ]
  },
  {
   "cell_type": "markdown",
   "metadata": {},
   "source": [
    "To create a lambda function, we:\n",
    "\n",
    "* Use the `lambda` keyword, followed by\n",
    "* The parameter and a colon, and then\n",
    "* The transformation we wish to perform on our argument"
   ]
  },
  {
   "cell_type": "markdown",
   "metadata": {},
   "source": [
    "If a function is particularly complex, it may be a better choice to define a regular function rather than create a lambda, even if it will only be used once. "
   ]
  },
  {
   "cell_type": "code",
   "execution_count": 44,
   "metadata": {},
   "outputs": [],
   "source": [
    "def multiply(a, b):\n",
    "    return a * b\n",
    "\n",
    "multiply = lambda a,b: a*b"
   ]
  },
  {
   "cell_type": "markdown",
   "metadata": {},
   "source": [
    "Assigning a `lambda` to a variable so it can be called by name is a pretty `uncommon pattern`. The primary use of lambda functions is to define a function in place, like when we are providing a function as an argument."
   ]
  },
  {
   "cell_type": "code",
   "execution_count": 45,
   "metadata": {},
   "outputs": [
    {
     "data": {
      "text/plain": [
       "[{'author': 'frederfred',\n",
       "  'numComments': 398,\n",
       "  'points': 2732,\n",
       "  'url': 'http://gabrielecirulli.github.io/2048/',\n",
       "  'storyText': '',\n",
       "  'createdAt': '2014-03-10T15:44:42Z',\n",
       "  'tags': ['story', 'author_frederfred', 'story_7373566'],\n",
       "  'title': '2048',\n",
       "  'objectId': '7373566'},\n",
       " {'author': 'brokenparser',\n",
       "  'numComments': 260,\n",
       "  'points': 1958,\n",
       "  'url': 'https://thedaywefightback.org/',\n",
       "  'storyText': '',\n",
       "  'createdAt': '2014-02-11T08:12:28Z',\n",
       "  'tags': ['story', 'author_brokenparser', 'story_7216471'],\n",
       "  'title': 'Today is The Day We Fight Back',\n",
       "  'objectId': '7216471'}]"
      ]
     },
     "execution_count": 45,
     "metadata": {},
     "output_type": "execute_result"
    }
   ],
   "source": [
    "hn_sorted_points = sorted(hn_clean, key = lambda d:d['points'], reverse = True) # sort higehtest to lowest\n",
    "hn_sorted_points[:2]"
   ]
  },
  {
   "cell_type": "code",
   "execution_count": 46,
   "metadata": {},
   "outputs": [
    {
     "data": {
      "text/plain": [
       "['2048',\n",
       " 'Today is The Day We Fight Back',\n",
       " 'Wozniak: “Actually, the movie was largely a lie about me”',\n",
       " 'Microsoft Open Sources C# Compiler',\n",
       " 'Elon Musk: To the People of New Jersey']"
      ]
     },
     "execution_count": 46,
     "metadata": {},
     "output_type": "execute_result"
    }
   ],
   "source": [
    "# list comprehension to return a list of the five post titles (dictionary key title) that have the most points \n",
    "\n",
    "top_5_titles = [d['title'] for d in sorted(hn_clean, key = lambda d:d['points'], reverse = True)[:5]]\n",
    "top_5_titles"
   ]
  },
  {
   "cell_type": "markdown",
   "metadata": {},
   "source": [
    "So far, we've worked with our `JSON data` using `pure Python`. One other option available to us is to convert the `JSON` to a `pandas dataframe` and then use pandas methods to manipulate it.\n",
    "\n",
    "Pandas has the `pandas.read_json()` function, which is designed to read **JSON** from either a `file` or a `JSON string`. "
   ]
  },
  {
   "cell_type": "markdown",
   "metadata": {},
   "source": [
    "In our case, our `JSON` exists as `Python objects` already, so we don't need to use this function.\n",
    "\n",
    "Because the structure of `JSON objects` can vary a lot, sometimes we will need to prepare our data in order to be able to convert it to a tabular form. In our case, our data is a list of dictionaries, which pandas is easily able to convert to a dataframe."
   ]
  },
  {
   "cell_type": "markdown",
   "metadata": {},
   "source": [
    "We can use the `pandas.DataFrame()` constructor and pass the list of dictionaries directly to it to convert the JSON to a dataframe:"
   ]
  },
  {
   "cell_type": "code",
   "execution_count": 47,
   "metadata": {},
   "outputs": [
    {
     "data": {
      "text/html": [
       "<div>\n",
       "<style scoped>\n",
       "    .dataframe tbody tr th:only-of-type {\n",
       "        vertical-align: middle;\n",
       "    }\n",
       "\n",
       "    .dataframe tbody tr th {\n",
       "        vertical-align: top;\n",
       "    }\n",
       "\n",
       "    .dataframe thead th {\n",
       "        text-align: right;\n",
       "    }\n",
       "</style>\n",
       "<table border=\"1\" class=\"dataframe\">\n",
       "  <thead>\n",
       "    <tr style=\"text-align: right;\">\n",
       "      <th></th>\n",
       "      <th>author</th>\n",
       "      <th>createdAt</th>\n",
       "      <th>numComments</th>\n",
       "      <th>objectId</th>\n",
       "      <th>points</th>\n",
       "      <th>storyText</th>\n",
       "      <th>tags</th>\n",
       "      <th>title</th>\n",
       "      <th>url</th>\n",
       "    </tr>\n",
       "  </thead>\n",
       "  <tbody>\n",
       "    <tr>\n",
       "      <th>0</th>\n",
       "      <td>dragongraphics</td>\n",
       "      <td>2014-05-29T08:07:50Z</td>\n",
       "      <td>0</td>\n",
       "      <td>7815238</td>\n",
       "      <td>2</td>\n",
       "      <td></td>\n",
       "      <td>[story, author_dragongraphics, story_7815238]</td>\n",
       "      <td>Are we getting too Sassy? Weighing up micro-op...</td>\n",
       "      <td>http://ashleynolan.co.uk/blog/are-we-getting-t...</td>\n",
       "    </tr>\n",
       "    <tr>\n",
       "      <th>1</th>\n",
       "      <td>jcr</td>\n",
       "      <td>2014-05-29T08:05:58Z</td>\n",
       "      <td>0</td>\n",
       "      <td>7815234</td>\n",
       "      <td>1</td>\n",
       "      <td></td>\n",
       "      <td>[story, author_jcr, story_7815234]</td>\n",
       "      <td>Telemba Turns Your Old Roomba and Tablet Into ...</td>\n",
       "      <td>http://spectrum.ieee.org/automaton/robotics/ho...</td>\n",
       "    </tr>\n",
       "    <tr>\n",
       "      <th>2</th>\n",
       "      <td>callum85</td>\n",
       "      <td>2014-05-29T08:05:06Z</td>\n",
       "      <td>0</td>\n",
       "      <td>7815230</td>\n",
       "      <td>1</td>\n",
       "      <td></td>\n",
       "      <td>[story, author_callum85, story_7815230]</td>\n",
       "      <td>Apple Agrees to Buy Beats for $3 Billion</td>\n",
       "      <td>http://online.wsj.com/articles/apple-to-buy-be...</td>\n",
       "    </tr>\n",
       "    <tr>\n",
       "      <th>3</th>\n",
       "      <td>d3v3r0</td>\n",
       "      <td>2014-05-29T08:00:08Z</td>\n",
       "      <td>0</td>\n",
       "      <td>7815222</td>\n",
       "      <td>1</td>\n",
       "      <td></td>\n",
       "      <td>[story, author_d3v3r0, story_7815222]</td>\n",
       "      <td>Don’t wait for inspiration</td>\n",
       "      <td>http://alexsblog.org/2014/05/29/dont-wait-for-...</td>\n",
       "    </tr>\n",
       "    <tr>\n",
       "      <th>4</th>\n",
       "      <td>timmipetit</td>\n",
       "      <td>2014-05-29T07:46:19Z</td>\n",
       "      <td>0</td>\n",
       "      <td>7815191</td>\n",
       "      <td>1</td>\n",
       "      <td></td>\n",
       "      <td>[story, author_timmipetit, story_7815191]</td>\n",
       "      <td>HackerOne Get $9M In Series A Funding To Build...</td>\n",
       "      <td>http://techcrunch.com/2014/05/28/hackerone-get...</td>\n",
       "    </tr>\n",
       "  </tbody>\n",
       "</table>\n",
       "</div>"
      ],
      "text/plain": [
       "           author             createdAt  numComments objectId  points  \\\n",
       "0  dragongraphics  2014-05-29T08:07:50Z            0  7815238       2   \n",
       "1             jcr  2014-05-29T08:05:58Z            0  7815234       1   \n",
       "2        callum85  2014-05-29T08:05:06Z            0  7815230       1   \n",
       "3          d3v3r0  2014-05-29T08:00:08Z            0  7815222       1   \n",
       "4      timmipetit  2014-05-29T07:46:19Z            0  7815191       1   \n",
       "\n",
       "  storyText                                           tags  \\\n",
       "0            [story, author_dragongraphics, story_7815238]   \n",
       "1                       [story, author_jcr, story_7815234]   \n",
       "2                  [story, author_callum85, story_7815230]   \n",
       "3                    [story, author_d3v3r0, story_7815222]   \n",
       "4                [story, author_timmipetit, story_7815191]   \n",
       "\n",
       "                                               title  \\\n",
       "0  Are we getting too Sassy? Weighing up micro-op...   \n",
       "1  Telemba Turns Your Old Roomba and Tablet Into ...   \n",
       "2           Apple Agrees to Buy Beats for $3 Billion   \n",
       "3                         Don’t wait for inspiration   \n",
       "4  HackerOne Get $9M In Series A Funding To Build...   \n",
       "\n",
       "                                                 url  \n",
       "0  http://ashleynolan.co.uk/blog/are-we-getting-t...  \n",
       "1  http://spectrum.ieee.org/automaton/robotics/ho...  \n",
       "2  http://online.wsj.com/articles/apple-to-buy-be...  \n",
       "3  http://alexsblog.org/2014/05/29/dont-wait-for-...  \n",
       "4  http://techcrunch.com/2014/05/28/hackerone-get...  "
      ]
     },
     "execution_count": 47,
     "metadata": {},
     "output_type": "execute_result"
    }
   ],
   "source": [
    "import pandas as pd\n",
    "\n",
    "hn_df = pd.DataFrame(hn_clean)\n",
    "hn_df.head()"
   ]
  },
  {
   "cell_type": "code",
   "execution_count": 48,
   "metadata": {},
   "outputs": [
    {
     "data": {
      "text/plain": [
       "43     [story, author_alamgir_mand, story_7813869, sh...\n",
       "86       [story, author_cweagans, story_7812404, ask_hn]\n",
       "104    [story, author_nightstrike789, story_7812099, ...\n",
       "107    [story, author_ISeemToBeAVerb, story_7812048, ...\n",
       "109       [story, author_Swizec, story_7812018, show_hn]\n",
       "Name: tags, dtype: object"
      ]
     },
     "execution_count": 48,
     "metadata": {},
     "output_type": "execute_result"
    }
   ],
   "source": [
    "# create a boolean mask based on whether each item in tags has a length of 4\n",
    "tags = hn_df['tags']\n",
    "four_tags = tags[tags.apply(len)==4]\n",
    "four_tags.head()"
   ]
  },
  {
   "cell_type": "markdown",
   "metadata": {},
   "source": [
    "Special version of an `if statement` known as a **ternary operator**. We can use the **ternary operator** whenever we need to return one of two values depending on a boolean expression. The syntax is as follows:\n",
    "\n",
    "`[on_true] if [expression] else [on_false]`"
   ]
  },
  {
   "cell_type": "code",
   "execution_count": 49,
   "metadata": {},
   "outputs": [],
   "source": [
    "# def extract_tag(l):\n",
    "#     return l[-1] if len(l) == 4 else None\n",
    "\n",
    "\n",
    "\n",
    "cleaned_tags = hn_df['tags'].apply(lambda l:l[-1] if len(l) == 4 else None) # Where the item is a list with length four, return the last item.\n"
   ]
  },
  {
   "cell_type": "code",
   "execution_count": 51,
   "metadata": {},
   "outputs": [],
   "source": [
    "hn_df['tags'] = cleaned_tags\n"
   ]
  }
 ],
 "metadata": {
  "kernelspec": {
   "display_name": "Python 3",
   "language": "python",
   "name": "python3"
  },
  "language_info": {
   "codemirror_mode": {
    "name": "ipython",
    "version": 3
   },
   "file_extension": ".py",
   "mimetype": "text/x-python",
   "name": "python",
   "nbconvert_exporter": "python",
   "pygments_lexer": "ipython3",
   "version": "3.7.6"
  }
 },
 "nbformat": 4,
 "nbformat_minor": 2
}
