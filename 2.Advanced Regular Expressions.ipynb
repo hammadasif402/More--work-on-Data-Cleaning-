{
 "cells": [
  {
   "cell_type": "code",
   "execution_count": 1,
   "metadata": {},
   "outputs": [],
   "source": [
    "import pandas as pd\n",
    "import re\n",
    "\n",
    "hn = pd.read_csv(\"hacker_news.csv\")\n",
    "titles = hn['title']"
   ]
  },
  {
   "cell_type": "code",
   "execution_count": 2,
   "metadata": {},
   "outputs": [
    {
     "data": {
      "text/plain": [
       "108"
      ]
     },
     "execution_count": 2,
     "metadata": {},
     "output_type": "execute_result"
    }
   ],
   "source": [
    "# the SQL language has three different capitalizations: SQL, sql, and Sql in title coulmn.\n",
    "\n",
    "pattern = 'sql'\n",
    "\n",
    "sql_counts = titles.str.contains(pattern, flags = re.I).sum()\n",
    "sql_counts"
   ]
  },
  {
   "cell_type": "code",
   "execution_count": 3,
   "metadata": {},
   "outputs": [
    {
     "data": {
      "text/plain": [
       "108"
      ]
     },
     "execution_count": 3,
     "metadata": {},
     "output_type": "execute_result"
    }
   ],
   "source": [
    "# alternative method \n",
    "\n",
    "pattern = r'[Ss][Qq][Ll]'\n",
    "\n",
    "sql_counts = titles.str.contains(pattern).sum()\n",
    "sql_counts"
   ]
  },
  {
   "cell_type": "code",
   "execution_count": 4,
   "metadata": {},
   "outputs": [
    {
     "data": {
      "text/html": [
       "<div>\n",
       "<style scoped>\n",
       "    .dataframe tbody tr th:only-of-type {\n",
       "        vertical-align: middle;\n",
       "    }\n",
       "\n",
       "    .dataframe tbody tr th {\n",
       "        vertical-align: top;\n",
       "    }\n",
       "\n",
       "    .dataframe thead th {\n",
       "        text-align: right;\n",
       "    }\n",
       "</style>\n",
       "<table border=\"1\" class=\"dataframe\">\n",
       "  <thead>\n",
       "    <tr style=\"text-align: right;\">\n",
       "      <th></th>\n",
       "      <th>num_comments</th>\n",
       "    </tr>\n",
       "    <tr>\n",
       "      <th>flavor</th>\n",
       "      <th></th>\n",
       "    </tr>\n",
       "  </thead>\n",
       "  <tbody>\n",
       "    <tr>\n",
       "      <th>cloudsql</th>\n",
       "      <td>5.000000</td>\n",
       "    </tr>\n",
       "    <tr>\n",
       "      <th>memsql</th>\n",
       "      <td>14.000000</td>\n",
       "    </tr>\n",
       "    <tr>\n",
       "      <th>mysql</th>\n",
       "      <td>12.230769</td>\n",
       "    </tr>\n",
       "    <tr>\n",
       "      <th>nosql</th>\n",
       "      <td>14.529412</td>\n",
       "    </tr>\n",
       "    <tr>\n",
       "      <th>postgresql</th>\n",
       "      <td>25.962963</td>\n",
       "    </tr>\n",
       "    <tr>\n",
       "      <th>sparksql</th>\n",
       "      <td>1.000000</td>\n",
       "    </tr>\n",
       "  </tbody>\n",
       "</table>\n",
       "</div>"
      ],
      "text/plain": [
       "            num_comments\n",
       "flavor                  \n",
       "cloudsql        5.000000\n",
       "memsql         14.000000\n",
       "mysql          12.230769\n",
       "nosql          14.529412\n",
       "postgresql     25.962963\n",
       "sparksql        1.000000"
      ]
     },
     "execution_count": 4,
     "metadata": {},
     "output_type": "execute_result"
    }
   ],
   "source": [
    "# looking at titles that have letters immediately before the \"SQL,\" \n",
    "\n",
    "pattern = r'\\w+sql'\n",
    "\n",
    "# creating a new dataframe, hn_sql, including only rows that mention a SQL flavor\n",
    "\n",
    "hn_sql = hn[hn['title'].str.contains(pattern, flags = re.I)].copy()\n",
    "\n",
    "# Create a new column called flavor containing sql flavors\n",
    "\n",
    "hn['flavor'] = hn_sql['title'].str.extract(r'(\\w+sql)', flags = re.I)\n",
    "\n",
    "# clean the values in the flavor column by converting them to lowercase\n",
    "\n",
    "hn['flavor'] = hn['flavor'].str.lower()\n",
    "\n",
    "# clean the values in the flavor column by converting them to lowercase\n",
    "\n",
    "sql_pivot = hn.pivot_table(index = 'flavor', values = 'num_comments', aggfunc = 'mean')\n",
    "sql_pivot\n"
   ]
  },
  {
   "cell_type": "code",
   "execution_count": 4,
   "metadata": {},
   "outputs": [
    {
     "data": {
      "text/plain": [
       "{'3': 10,\n",
       " '2': 3,\n",
       " '3.5': 3,\n",
       " '3.6': 2,\n",
       " '3.5.0': 1,\n",
       " '8': 1,\n",
       " '4': 1,\n",
       " '1.5': 1,\n",
       " '2.7': 1}"
      ]
     },
     "execution_count": 4,
     "metadata": {},
     "output_type": "execute_result"
    }
   ],
   "source": [
    "#regular expression pattern which will match Python or python, followed by a space, followed by one or more digit characters or periods\n",
    "\n",
    "pattern = r'[Pp]ython\\s([\\d\\.?]+)' # contain a capture group for the digit and period characters (the Python versions)\n",
    "\n",
    "pv_version = titles.str.extract(pattern)\n",
    "py_versions_freq = dict(pv_version[0].value_counts())\n",
    "py_versions_freq"
   ]
  },
  {
   "cell_type": "code",
   "execution_count": 6,
   "metadata": {},
   "outputs": [
    {
     "data": {
      "text/plain": [
       "{'3': 10,\n",
       " '2': 3,\n",
       " '3.5': 3,\n",
       " '3.6': 2,\n",
       " '3.5.0': 1,\n",
       " '8': 1,\n",
       " '4': 1,\n",
       " '1.5': 1,\n",
       " '2.7': 1}"
      ]
     },
     "execution_count": 6,
     "metadata": {},
     "output_type": "execute_result"
    }
   ],
   "source": [
    "# alternate method of above\n",
    "pattern = r'[Pp]ython ([\\d\\.]+)'\n",
    "pv_version = titles.str.extract(pattern)\n",
    "py_versions_freq = dict(pv_version[0].value_counts())\n",
    "py_versions_freq"
   ]
  },
  {
   "cell_type": "code",
   "execution_count": 10,
   "metadata": {},
   "outputs": [
    {
     "data": {
      "text/plain": [
       "365                      The new C standards are worth it\n",
       "444           Moz raises $10m Series C from Foundry Group\n",
       "521          Fuchsia: Micro kernel written in C by Google\n",
       "1307            Show HN: Yupp, yet another C preprocessor\n",
       "1326                     The C standard formalized in Coq\n",
       "1365                          GNU C Library 2.23 released\n",
       "1429    Cysignals: signal handling (SIGINT, SIGSEGV, )...\n",
       "1620                        SDCC  Small Device C Compiler\n",
       "1949    Rewriting a Ruby C Extension in Rust: How a Na...\n",
       "2195    MyHTML  HTML Parser on Pure C with POSIX Threa...\n",
       "Name: title, dtype: object"
      ]
     },
     "execution_count": 10,
     "metadata": {},
     "output_type": "execute_result"
    }
   ],
   "source": [
    "def first_10_matches(pattern):\n",
    "    \"\"\"\n",
    "    Return the first 10 story titles that match\n",
    "    the provided regular expression\n",
    "    \"\"\"\n",
    "    all_matches = titles[titles.str.contains(pattern)]\n",
    "    first_10 = all_matches.head(10)\n",
    "    return first_10\n",
    "\n",
    "pattern = r'\\b[Cc]\\b[^.+]' # finding C language only followed by spaces (\\s)\n",
    "\n",
    "first_ten  = first_10_matches(pattern)\n",
    "first_ten"
   ]
  },
  {
   "cell_type": "markdown",
   "metadata": {},
   "source": [
    "In our first 10 matches we have one irrelevant result, which is about `\"Series C,\"` a term used to represent a particular type of startup fundraising."
   ]
  },
  {
   "cell_type": "markdown",
   "metadata": {},
   "source": [
    "Additionally, we've run into the same issue as we did in the previous file — by using a **negative set**, we may have eliminated any instances where the last character of the title is \"C\" (the second last line of output matches in spite of the fact that it ends with \"C,\" because it also has \"C\" earlier in the string)."
   ]
  },
  {
   "cell_type": "markdown",
   "metadata": {},
   "source": [
    "Neither of these can be avoided using negative sets, which are used to allow multiple matches for a single character. Instead we'll need a new tool: **lookarounds**.\n",
    "\n",
    "Lookarounds let us define a character or sequence of characters that either must or must not come before or after our regex match. There are four types of lookarounds:\n",
    "\n",
    "* `positive lookahead`  zzz(?=abc)  match zzz only when it is followed by abc\n",
    "* `negative lookahead`  zzz(?!abc)  match zzz only when it is not followed by abc\n",
    "* `positive lookbehind` (?<=abc)zzz match zzz only when it is preceded by abc\n",
    "* `negative lookbehind` (?<!abc)zzz match zzz only when it is not preceded by abc\n",
    "\n",
    "These tips can help us remember the syntax for lookarounds:\n",
    "\n",
    "* Inside the parentheses, the first character of a lookaround is always `?`.\n",
    "* If the lookaround is a lookbehind, the next character will be `<`, which we can think of as an arrow head pointing behind the match.\n",
    "* The next character indicates whether the lookaround is positive (`=`) or negative (`!`)."
   ]
  },
  {
   "cell_type": "markdown",
   "metadata": {},
   "source": [
    "The contents of a lookaround can include any other regular expression component. For instance, here is an example where we match only cases that are followed by exactly five characters:\n",
    "\n",
    "`run_test_cases(r\"Green(?=.{5})\")`"
   ]
  },
  {
   "cell_type": "code",
   "execution_count": 13,
   "metadata": {},
   "outputs": [
    {
     "data": {
      "text/plain": [
       "102"
      ]
     },
     "execution_count": 13,
     "metadata": {},
     "output_type": "execute_result"
    }
   ],
   "source": [
    "# Exclude matches that have the word 'Series' immediately preceding C.\n",
    "pattern = r'(?<!Series\\s)\\b[Cc]\\b(?![.+])'\n",
    "\n",
    "c_mentions =titles.str.contains(pattern).sum()\n",
    "c_mentions"
   ]
  },
  {
   "cell_type": "markdown",
   "metadata": {},
   "source": [
    "Let's say we wanted to identify strings that had words with double letters, like the `\"ee\"` in `\"feed.\"`. We can do this with `backreferences`.\n",
    "\n",
    "`Backreferences` allow us to repeat a **capture group** within our regex pattern by referring to them with an **integer** in the order they are captured. "
   ]
  },
  {
   "cell_type": "code",
   "execution_count": 9,
   "metadata": {},
   "outputs": [
    {
     "name": "stderr",
     "output_type": "stream",
     "text": [
      "C:\\ProgramData\\Anaconda3\\lib\\site-packages\\ipykernel_launcher.py:8: UserWarning: This pattern has match groups. To actually get the groups, use str.extract.\n",
      "  \n"
     ]
    },
    {
     "data": {
      "text/plain": [
       "3102                  Silicon Valley Has a Problem Problem\n",
       "3176                Wire Wire: A West African Cyber Threat\n",
       "3178                         Flexbox Cheatsheet Cheatsheet\n",
       "4797                            The Mindset Mindset (2015)\n",
       "7276     Valentine's Day Special: Bye Bye Tinder, Flirt...\n",
       "10371    Mcdonalds copying cyriak  cows cows cows in th...\n",
       "11575                                    Bang Bang Control\n",
       "11901          Cordless Telephones: Bye Bye Privacy (1991)\n",
       "12697          Solving the the Monty-Hall-Problem in Swift\n",
       "15049    Bye Bye Webrtc2SIP: WebRTC with Asterisk and A...\n",
       "15839          Intellij-Rust Rust Plugin for IntelliJ IDEA\n",
       "Name: title, dtype: object"
      ]
     },
     "execution_count": 9,
     "metadata": {},
     "output_type": "execute_result"
    }
   ],
   "source": [
    "# regular expression to match cases of repeated words:\n",
    "\n",
    "# We'll define a word as a series of one or more word characters that are preceded and followed by a boundary anchor.\n",
    "# We'll define repeated words as the same word repeated twice, separated by a whitespace character.\n",
    "\n",
    "pattern = r'\\b(\\w+)\\s\\1\\b'\n",
    "\n",
    "repeated_words = titles[titles.str.contains(pattern)]\n",
    "repeated_words"
   ]
  },
  {
   "cell_type": "markdown",
   "metadata": {},
   "source": [
    "When we work with basic string methods, we used the `str.replace()` method to replace simple substrings. We can achieve the same with regular expressions using the `re.sub()` function. The basic syntax for `re.sub()` is:\n",
    "\n",
    "`re.sub(pattern, repl, string, flags=0`)"
   ]
  },
  {
   "cell_type": "markdown",
   "metadata": {},
   "source": [
    "`string = \"aBcDEfGHIj\"\n",
    "print(re.sub(r\"[A-Z]\", \"-\", string))`\n",
    "\n",
    "`a-c--f---j`"
   ]
  },
  {
   "cell_type": "markdown",
   "metadata": {},
   "source": [
    "When working in pandas, we can use the `Series.str.replace()` method, which uses nearly identical syntax:\n",
    "\n",
    "`Series.str.replace(pat, repl, flags=0)`"
   ]
  },
  {
   "cell_type": "code",
   "execution_count": 15,
   "metadata": {},
   "outputs": [
    {
     "name": "stdout",
     "output_type": "stream",
     "text": [
      "0    SQL\n",
      "1    SQL\n",
      "2    SQL\n",
      "dtype: object\n"
     ]
    }
   ],
   "source": [
    "sql_variations = pd.Series([\"SQL\", \"Sql\", \"sql\"])\n",
    "\n",
    "sql_uniform = sql_variations.str.replace(r\"sql\", \"SQL\", flags=re.I)\n",
    "print(sql_uniform)"
   ]
  },
  {
   "cell_type": "code",
   "execution_count": 10,
   "metadata": {},
   "outputs": [
    {
     "data": {
      "text/plain": [
       "0     email\n",
       "1     Email\n",
       "2    e Mail\n",
       "3    e-mail\n",
       "4    e mail\n",
       "5    E-mail\n",
       "6    E-Mail\n",
       "7     EMAIL\n",
       "8     eMail\n",
       "dtype: object"
      ]
     },
     "execution_count": 10,
     "metadata": {},
     "output_type": "execute_result"
    }
   ],
   "source": [
    "pattern = r'(e[-\\s]?mail)'\n",
    "\n",
    "email_variations = titles.str.extract(pattern, flags = re.I)[0].value_counts()\n",
    "email_variations = pd.Series(email_variations.index)\n",
    "email_variations"
   ]
  },
  {
   "cell_type": "code",
   "execution_count": 11,
   "metadata": {},
   "outputs": [
    {
     "data": {
      "text/plain": [
       "0    email\n",
       "1    email\n",
       "2    email\n",
       "3    email\n",
       "4    email\n",
       "5    email\n",
       "6    email\n",
       "7    email\n",
       "8    email\n",
       "dtype: object"
      ]
     },
     "execution_count": 11,
     "metadata": {},
     "output_type": "execute_result"
    }
   ],
   "source": [
    "pattern = r'(e[-\\s]?mail)'\n",
    "email_uniform = email_variations.str.replace(pattern, \"email\", flags = re.I)\n",
    "email_uniform"
   ]
  },
  {
   "cell_type": "code",
   "execution_count": 12,
   "metadata": {},
   "outputs": [
    {
     "data": {
      "text/plain": [
       "email    151\n",
       "Name: 0, dtype: int64"
      ]
     },
     "execution_count": 12,
     "metadata": {},
     "output_type": "execute_result"
    }
   ],
   "source": [
    "titles_clean = titles.str.replace(pattern, \"email\", flags = re.I)\n",
    "titles_clean.str.extract(pattern)[0].value_counts()"
   ]
  },
  {
   "cell_type": "code",
   "execution_count": 50,
   "metadata": {},
   "outputs": [
    {
     "data": {
      "text/plain": [
       "github.com                1008\n",
       "medium.com                 825\n",
       "www.nytimes.com            525\n",
       "www.theguardian.com        248\n",
       "techcrunch.com             245\n",
       "www.youtube.com            213\n",
       "www.bloomberg.com          193\n",
       "arstechnica.com            191\n",
       "www.washingtonpost.com     190\n",
       "www.wsj.com                138\n",
       "Name: 0, dtype: int64"
      ]
     },
     "execution_count": 50,
     "metadata": {},
     "output_type": "execute_result"
    }
   ],
   "source": [
    "# extracting domain name from url\n",
    "pattern = r\"https?://([\\w\\.]+)\"\n",
    "hn[\"url\"].str.extract(pattern, flags = re.I)[0].value_counts().head(10)"
   ]
  },
  {
   "cell_type": "code",
   "execution_count": 68,
   "metadata": {},
   "outputs": [
    {
     "data": {
      "text/html": [
       "<div>\n",
       "<style scoped>\n",
       "    .dataframe tbody tr th:only-of-type {\n",
       "        vertical-align: middle;\n",
       "    }\n",
       "\n",
       "    .dataframe tbody tr th {\n",
       "        vertical-align: top;\n",
       "    }\n",
       "\n",
       "    .dataframe thead th {\n",
       "        text-align: right;\n",
       "    }\n",
       "</style>\n",
       "<table border=\"1\" class=\"dataframe\">\n",
       "  <thead>\n",
       "    <tr style=\"text-align: right;\">\n",
       "      <th></th>\n",
       "      <th>0</th>\n",
       "      <th>1</th>\n",
       "      <th>2</th>\n",
       "    </tr>\n",
       "  </thead>\n",
       "  <tbody>\n",
       "    <tr>\n",
       "      <th>0</th>\n",
       "      <td>http</td>\n",
       "      <td>www.interactivedynamicvideo.com</td>\n",
       "      <td></td>\n",
       "    </tr>\n",
       "    <tr>\n",
       "      <th>1</th>\n",
       "      <td>http</td>\n",
       "      <td>www.thewire.com</td>\n",
       "      <td>entertainment/2013/04/florida-djs-april-fools-...</td>\n",
       "    </tr>\n",
       "    <tr>\n",
       "      <th>2</th>\n",
       "      <td>https</td>\n",
       "      <td>www.amazon.com</td>\n",
       "      <td>Technology-Ventures-Enterprise-Thomas-Byers/dp...</td>\n",
       "    </tr>\n",
       "    <tr>\n",
       "      <th>3</th>\n",
       "      <td>http</td>\n",
       "      <td>www.nytimes.com</td>\n",
       "      <td>2007/11/07/movies/07stein.html?_r=0</td>\n",
       "    </tr>\n",
       "    <tr>\n",
       "      <th>4</th>\n",
       "      <td>http</td>\n",
       "      <td>arstechnica.com</td>\n",
       "      <td>business/2015/10/comcast-and-other-isps-boost-...</td>\n",
       "    </tr>\n",
       "  </tbody>\n",
       "</table>\n",
       "</div>"
      ],
      "text/plain": [
       "       0                                1  \\\n",
       "0   http  www.interactivedynamicvideo.com   \n",
       "1   http                  www.thewire.com   \n",
       "2  https                   www.amazon.com   \n",
       "3   http                  www.nytimes.com   \n",
       "4   http                  arstechnica.com   \n",
       "\n",
       "                                                   2  \n",
       "0                                                     \n",
       "1  entertainment/2013/04/florida-djs-april-fools-...  \n",
       "2  Technology-Ventures-Enterprise-Thomas-Byers/dp...  \n",
       "3                2007/11/07/movies/07stein.html?_r=0  \n",
       "4  business/2015/10/comcast-and-other-isps-boost-...  "
      ]
     },
     "execution_count": 68,
     "metadata": {},
     "output_type": "execute_result"
    }
   ],
   "source": [
    "# extracting Protocol,Domain and Page path using 3 capturing group\n",
    "pattern = r'(.+)://([\\w\\.]+)/?(.*)'\n",
    "hn[\"url\"].str.extract(pattern).head()"
   ]
  },
  {
   "cell_type": "markdown",
   "metadata": {},
   "source": [
    "We can also name these columns, which we'll do using named capture groups.\n",
    "\n",
    "In order to name a capture group we use the syntax `?P`, where name is the name of our capture group. This syntax goes after the open parentheses, but before the regex syntax that defines the capture group"
   ]
  },
  {
   "cell_type": "code",
   "execution_count": 74,
   "metadata": {},
   "outputs": [
    {
     "data": {
      "text/html": [
       "<div>\n",
       "<style scoped>\n",
       "    .dataframe tbody tr th:only-of-type {\n",
       "        vertical-align: middle;\n",
       "    }\n",
       "\n",
       "    .dataframe tbody tr th {\n",
       "        vertical-align: top;\n",
       "    }\n",
       "\n",
       "    .dataframe thead th {\n",
       "        text-align: right;\n",
       "    }\n",
       "</style>\n",
       "<table border=\"1\" class=\"dataframe\">\n",
       "  <thead>\n",
       "    <tr style=\"text-align: right;\">\n",
       "      <th></th>\n",
       "      <th>protocol</th>\n",
       "      <th>domain</th>\n",
       "      <th>path</th>\n",
       "    </tr>\n",
       "  </thead>\n",
       "  <tbody>\n",
       "    <tr>\n",
       "      <th>0</th>\n",
       "      <td>http</td>\n",
       "      <td>www.interactivedynamicvideo.com</td>\n",
       "      <td></td>\n",
       "    </tr>\n",
       "    <tr>\n",
       "      <th>1</th>\n",
       "      <td>http</td>\n",
       "      <td>www.thewire.com</td>\n",
       "      <td>entertainment/2013/04/florida-djs-april-fools-...</td>\n",
       "    </tr>\n",
       "    <tr>\n",
       "      <th>2</th>\n",
       "      <td>https</td>\n",
       "      <td>www.amazon.com</td>\n",
       "      <td>Technology-Ventures-Enterprise-Thomas-Byers/dp...</td>\n",
       "    </tr>\n",
       "    <tr>\n",
       "      <th>3</th>\n",
       "      <td>http</td>\n",
       "      <td>www.nytimes.com</td>\n",
       "      <td>2007/11/07/movies/07stein.html?_r=0</td>\n",
       "    </tr>\n",
       "    <tr>\n",
       "      <th>4</th>\n",
       "      <td>http</td>\n",
       "      <td>arstechnica.com</td>\n",
       "      <td>business/2015/10/comcast-and-other-isps-boost-...</td>\n",
       "    </tr>\n",
       "  </tbody>\n",
       "</table>\n",
       "</div>"
      ],
      "text/plain": [
       "  protocol                           domain  \\\n",
       "0     http  www.interactivedynamicvideo.com   \n",
       "1     http                  www.thewire.com   \n",
       "2    https                   www.amazon.com   \n",
       "3     http                  www.nytimes.com   \n",
       "4     http                  arstechnica.com   \n",
       "\n",
       "                                                path  \n",
       "0                                                     \n",
       "1  entertainment/2013/04/florida-djs-april-fools-...  \n",
       "2  Technology-Ventures-Enterprise-Thomas-Byers/dp...  \n",
       "3                2007/11/07/movies/07stein.html?_r=0  \n",
       "4  business/2015/10/comcast-and-other-isps-boost-...  "
      ]
     },
     "execution_count": 74,
     "metadata": {},
     "output_type": "execute_result"
    }
   ],
   "source": [
    "pattern = r'(?P<protocol>.+)://(?P<domain>[\\w\\.]+)/?(?P<path>.*)'\n",
    "hn[\"url\"].str.extract(pattern).head()"
   ]
  },
  {
   "cell_type": "code",
   "execution_count": null,
   "metadata": {},
   "outputs": [],
   "source": []
  }
 ],
 "metadata": {
  "kernelspec": {
   "display_name": "Python 3",
   "language": "python",
   "name": "python3"
  },
  "language_info": {
   "codemirror_mode": {
    "name": "ipython",
    "version": 3
   },
   "file_extension": ".py",
   "mimetype": "text/x-python",
   "name": "python",
   "nbconvert_exporter": "python",
   "pygments_lexer": "ipython3",
   "version": "3.7.6"
  }
 },
 "nbformat": 4,
 "nbformat_minor": 2
}
