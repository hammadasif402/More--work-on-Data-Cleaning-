{
 "cells": [
  {
   "cell_type": "markdown",
   "metadata": {},
   "source": [
    "Regular expressions are a powerful way of building patterns to matching text. As powerful as regular expressions are, they can be difficult to learn at first and the syntax can look visually intimidating. As a result, a lot of people end up disliking regular expressions and try to avoid using them, instead opting to write more cumbersome code."
   ]
  },
  {
   "cell_type": "markdown",
   "metadata": {},
   "source": [
    "That said, learning (and loving!) regular expressions is something that is a worthwhile investment\n",
    "\n",
    "* Once we understand how they work, complex operations with string data can be written a lot quicker, which will save time.\n",
    "* Regular expressions are often faster to execute than their manual equivalents.\n",
    "* Regular expressions are supported in almost every modern programming language, as well as other places like command line utilities and databases. Understanding regular expressions gives us a powerful tool that we can use wherever we work with data."
   ]
  },
  {
   "cell_type": "markdown",
   "metadata": {},
   "source": [
    "We'll be applying regular expressions while performing analysis on a dataset of submissions to popular technology site [Hacker News](https://news.ycombinator.com/)."
   ]
  },
  {
   "cell_type": "markdown",
   "metadata": {},
   "source": [
    "**Hacker News** is a site started by the startup incubator [Y Combinator](https://www.ycombinator.com/), where user-submitted stories (known as \"stories\") are voted and commented upon, similar to **reddit**. Hacker News is extremely popular in technology and startup circles; stories that make it to the top of Hacker News' listings can get hundreds of thousands of visitors."
   ]
  },
  {
   "cell_type": "markdown",
   "metadata": {},
   "source": [
    "The dataset we will be working with is based off [this CSV of Hacker News stories from September 2015 to September 2016](https://www.kaggle.com/hacker-news/hacker-news-posts). The columns in the dataset are explained below:\n",
    "\n",
    "* `id`: The unique identifier from Hacker News for the story\n",
    "* `title`: The title of the story\n",
    "* `url`: The URL that the stories links to, if the story has a URL\n",
    "* `num_points`: The number of points the story acquired, calculated as the total number of upvotes minus the total number of downvotes\n",
    "* `num_comments`: The number of comments that were made on the story\n",
    "* `author`: The username of the person who submitted the story\n",
    "* `created_at`: The date and time at which the story was submitted"
   ]
  },
  {
   "cell_type": "markdown",
   "metadata": {},
   "source": [
    "We have reduced the dataset from the almost 300,000 rows in its original form to approximately 20,000 rows by removing all submissions that did not receive any comments, and then randomly sampling from the remaining submissions. "
   ]
  },
  {
   "cell_type": "code",
   "execution_count": 1,
   "metadata": {},
   "outputs": [],
   "source": [
    "import numpy as np\n",
    "import pandas as pd\n",
    "import matplotlib.pyplot as plt\n",
    "%matplotlib inline"
   ]
  },
  {
   "cell_type": "code",
   "execution_count": 2,
   "metadata": {},
   "outputs": [
    {
     "name": "stdout",
     "output_type": "stream",
     "text": [
      "<class 'pandas.core.frame.DataFrame'>\n",
      "RangeIndex: 20099 entries, 0 to 20098\n",
      "Data columns (total 7 columns):\n",
      " #   Column        Non-Null Count  Dtype \n",
      "---  ------        --------------  ----- \n",
      " 0   id            20099 non-null  int64 \n",
      " 1   title         20099 non-null  object\n",
      " 2   url           17659 non-null  object\n",
      " 3   num_points    20099 non-null  int64 \n",
      " 4   num_comments  20099 non-null  int64 \n",
      " 5   author        20099 non-null  object\n",
      " 6   created_at    20099 non-null  object\n",
      "dtypes: int64(3), object(4)\n",
      "memory usage: 1.1+ MB\n",
      "None\n"
     ]
    }
   ],
   "source": [
    "hn = pd.read_csv(\"hacker_news.csv\")\n",
    "print(hn.info())"
   ]
  },
  {
   "cell_type": "code",
   "execution_count": 3,
   "metadata": {},
   "outputs": [
    {
     "data": {
      "text/html": [
       "<div>\n",
       "<style scoped>\n",
       "    .dataframe tbody tr th:only-of-type {\n",
       "        vertical-align: middle;\n",
       "    }\n",
       "\n",
       "    .dataframe tbody tr th {\n",
       "        vertical-align: top;\n",
       "    }\n",
       "\n",
       "    .dataframe thead th {\n",
       "        text-align: right;\n",
       "    }\n",
       "</style>\n",
       "<table border=\"1\" class=\"dataframe\">\n",
       "  <thead>\n",
       "    <tr style=\"text-align: right;\">\n",
       "      <th></th>\n",
       "      <th>id</th>\n",
       "      <th>num_points</th>\n",
       "      <th>num_comments</th>\n",
       "    </tr>\n",
       "  </thead>\n",
       "  <tbody>\n",
       "    <tr>\n",
       "      <th>count</th>\n",
       "      <td>2.009900e+04</td>\n",
       "      <td>20099.000000</td>\n",
       "      <td>20099.000000</td>\n",
       "    </tr>\n",
       "    <tr>\n",
       "      <th>mean</th>\n",
       "      <td>1.131755e+07</td>\n",
       "      <td>50.296632</td>\n",
       "      <td>24.803025</td>\n",
       "    </tr>\n",
       "    <tr>\n",
       "      <th>std</th>\n",
       "      <td>6.964531e+05</td>\n",
       "      <td>107.110322</td>\n",
       "      <td>56.108639</td>\n",
       "    </tr>\n",
       "    <tr>\n",
       "      <th>min</th>\n",
       "      <td>1.017691e+07</td>\n",
       "      <td>1.000000</td>\n",
       "      <td>1.000000</td>\n",
       "    </tr>\n",
       "    <tr>\n",
       "      <th>25%</th>\n",
       "      <td>1.070172e+07</td>\n",
       "      <td>3.000000</td>\n",
       "      <td>1.000000</td>\n",
       "    </tr>\n",
       "    <tr>\n",
       "      <th>50%</th>\n",
       "      <td>1.128452e+07</td>\n",
       "      <td>9.000000</td>\n",
       "      <td>3.000000</td>\n",
       "    </tr>\n",
       "    <tr>\n",
       "      <th>75%</th>\n",
       "      <td>1.192613e+07</td>\n",
       "      <td>54.000000</td>\n",
       "      <td>21.000000</td>\n",
       "    </tr>\n",
       "    <tr>\n",
       "      <th>max</th>\n",
       "      <td>1.257898e+07</td>\n",
       "      <td>2553.000000</td>\n",
       "      <td>1733.000000</td>\n",
       "    </tr>\n",
       "  </tbody>\n",
       "</table>\n",
       "</div>"
      ],
      "text/plain": [
       "                 id    num_points  num_comments\n",
       "count  2.009900e+04  20099.000000  20099.000000\n",
       "mean   1.131755e+07     50.296632     24.803025\n",
       "std    6.964531e+05    107.110322     56.108639\n",
       "min    1.017691e+07      1.000000      1.000000\n",
       "25%    1.070172e+07      3.000000      1.000000\n",
       "50%    1.128452e+07      9.000000      3.000000\n",
       "75%    1.192613e+07     54.000000     21.000000\n",
       "max    1.257898e+07   2553.000000   1733.000000"
      ]
     },
     "execution_count": 3,
     "metadata": {},
     "output_type": "execute_result"
    }
   ],
   "source": [
    "# hn.describe(include = \"all\")\n",
    "hn.describe()"
   ]
  },
  {
   "cell_type": "code",
   "execution_count": 4,
   "metadata": {},
   "outputs": [
    {
     "data": {
      "text/html": [
       "<div>\n",
       "<style scoped>\n",
       "    .dataframe tbody tr th:only-of-type {\n",
       "        vertical-align: middle;\n",
       "    }\n",
       "\n",
       "    .dataframe tbody tr th {\n",
       "        vertical-align: top;\n",
       "    }\n",
       "\n",
       "    .dataframe thead th {\n",
       "        text-align: right;\n",
       "    }\n",
       "</style>\n",
       "<table border=\"1\" class=\"dataframe\">\n",
       "  <thead>\n",
       "    <tr style=\"text-align: right;\">\n",
       "      <th></th>\n",
       "      <th>id</th>\n",
       "      <th>title</th>\n",
       "      <th>url</th>\n",
       "      <th>num_points</th>\n",
       "      <th>num_comments</th>\n",
       "      <th>author</th>\n",
       "      <th>created_at</th>\n",
       "    </tr>\n",
       "  </thead>\n",
       "  <tbody>\n",
       "    <tr>\n",
       "      <th>0</th>\n",
       "      <td>12224879</td>\n",
       "      <td>Interactive Dynamic Video</td>\n",
       "      <td>http://www.interactivedynamicvideo.com/</td>\n",
       "      <td>386</td>\n",
       "      <td>52</td>\n",
       "      <td>ne0phyte</td>\n",
       "      <td>8/4/2016 11:52</td>\n",
       "    </tr>\n",
       "    <tr>\n",
       "      <th>1</th>\n",
       "      <td>11964716</td>\n",
       "      <td>Florida DJs May Face Felony for April Fools' W...</td>\n",
       "      <td>http://www.thewire.com/entertainment/2013/04/f...</td>\n",
       "      <td>2</td>\n",
       "      <td>1</td>\n",
       "      <td>vezycash</td>\n",
       "      <td>6/23/2016 22:20</td>\n",
       "    </tr>\n",
       "    <tr>\n",
       "      <th>2</th>\n",
       "      <td>11919867</td>\n",
       "      <td>Technology ventures: From Idea to Enterprise</td>\n",
       "      <td>https://www.amazon.com/Technology-Ventures-Ent...</td>\n",
       "      <td>3</td>\n",
       "      <td>1</td>\n",
       "      <td>hswarna</td>\n",
       "      <td>6/17/2016 0:01</td>\n",
       "    </tr>\n",
       "    <tr>\n",
       "      <th>3</th>\n",
       "      <td>10301696</td>\n",
       "      <td>Note by Note: The Making of Steinway L1037 (2007)</td>\n",
       "      <td>http://www.nytimes.com/2007/11/07/movies/07ste...</td>\n",
       "      <td>8</td>\n",
       "      <td>2</td>\n",
       "      <td>walterbell</td>\n",
       "      <td>9/30/2015 4:12</td>\n",
       "    </tr>\n",
       "    <tr>\n",
       "      <th>4</th>\n",
       "      <td>10482257</td>\n",
       "      <td>Title II kills investment? Comcast and other I...</td>\n",
       "      <td>http://arstechnica.com/business/2015/10/comcas...</td>\n",
       "      <td>53</td>\n",
       "      <td>22</td>\n",
       "      <td>Deinos</td>\n",
       "      <td>10/31/2015 9:48</td>\n",
       "    </tr>\n",
       "  </tbody>\n",
       "</table>\n",
       "</div>"
      ],
      "text/plain": [
       "         id                                              title  \\\n",
       "0  12224879                          Interactive Dynamic Video   \n",
       "1  11964716  Florida DJs May Face Felony for April Fools' W...   \n",
       "2  11919867       Technology ventures: From Idea to Enterprise   \n",
       "3  10301696  Note by Note: The Making of Steinway L1037 (2007)   \n",
       "4  10482257  Title II kills investment? Comcast and other I...   \n",
       "\n",
       "                                                 url  num_points  \\\n",
       "0            http://www.interactivedynamicvideo.com/         386   \n",
       "1  http://www.thewire.com/entertainment/2013/04/f...           2   \n",
       "2  https://www.amazon.com/Technology-Ventures-Ent...           3   \n",
       "3  http://www.nytimes.com/2007/11/07/movies/07ste...           8   \n",
       "4  http://arstechnica.com/business/2015/10/comcas...          53   \n",
       "\n",
       "   num_comments      author       created_at  \n",
       "0            52    ne0phyte   8/4/2016 11:52  \n",
       "1             1    vezycash  6/23/2016 22:20  \n",
       "2             1     hswarna   6/17/2016 0:01  \n",
       "3             2  walterbell   9/30/2015 4:12  \n",
       "4            22      Deinos  10/31/2015 9:48  "
      ]
     },
     "execution_count": 4,
     "metadata": {},
     "output_type": "execute_result"
    }
   ],
   "source": [
    "hn.head()"
   ]
  },
  {
   "cell_type": "markdown",
   "metadata": {},
   "source": [
    "When working with regular expressions, we use the term **pattern** to describe a regular expression that we've written. If the pattern is found within the string we're searching, we say that it has matched."
   ]
  },
  {
   "cell_type": "markdown",
   "metadata": {},
   "source": [
    "We previously used regular expressions with pandas, but Python also has a built-in module for regular expressions: The [re module](https://docs.python.org/3/library/re.html#module-re). This module contains a number of different functions and classes for working with regular expressions. One of the most useful functions from the `re` module is the `re.search()` function, which takes two required arguments\n",
    "\n",
    "* The regex pattern\n",
    "* The string we want to search that pattern for"
   ]
  },
  {
   "cell_type": "markdown",
   "metadata": {},
   "source": [
    "`import re\n",
    "m = re.search(\"and\", \"hand\")\n",
    "print(m)`\n",
    "\n",
    "`< _sre.SRE_Match object; span=(1, 4), match='and' >`\n",
    "\n",
    "The `re.search()` function will return a Match object if the pattern is found anywhere within the string. If the pattern is not found, `re.search()` returns `None`:\n",
    "\n",
    "`m = re.search(\"and\", \"antidote\")\n",
    "print(m)\n",
    "None`\n",
    "\n",
    "We can use the fact that the boolean value of a match object is `True` while `None` is `False` to easily check whether our regex matches each string in a list. "
   ]
  },
  {
   "cell_type": "markdown",
   "metadata": {},
   "source": [
    "The power of regular expressions comes when we use one of the `special character` sequences.\n",
    "\n",
    "The first of these we'll use is called a `set`. A `set` allows us to specify two or more characters that can match in a single character's position."
   ]
  },
  {
   "cell_type": "markdown",
   "metadata": {},
   "source": [
    "We define a set by placing the characters we want to match for in square brackets\n",
    "\n",
    "`example: [msb]end`"
   ]
  },
  {
   "cell_type": "markdown",
   "metadata": {},
   "source": [
    "The regular expression above will match the strings `mend`, `send`, and `bend`."
   ]
  },
  {
   "cell_type": "code",
   "execution_count": 5,
   "metadata": {},
   "outputs": [
    {
     "data": {
      "text/plain": [
       "160"
      ]
     },
     "execution_count": 5,
     "metadata": {},
     "output_type": "execute_result"
    }
   ],
   "source": [
    "# how many times Python is mentioned in the title of stories in our Hacker News dataset.\n",
    "\n",
    "import re\n",
    "\n",
    "titles = hn[\"title\"]\n",
    "\n",
    "\n",
    "pattern = r'[Pp]ython'\n",
    "python_counts = 0\n",
    "\n",
    "for title in titles:\n",
    "    if re.search(pattern, title):\n",
    "        python_counts += 1\n",
    "python_counts\n"
   ]
  },
  {
   "cell_type": "markdown",
   "metadata": {},
   "source": [
    "`Series.str.contains()` method can be used to test whether a Series of strings match a particular regex pattern."
   ]
  },
  {
   "cell_type": "code",
   "execution_count": 7,
   "metadata": {},
   "outputs": [
    {
     "data": {
      "text/plain": [
       "160"
      ]
     },
     "execution_count": 7,
     "metadata": {},
     "output_type": "execute_result"
    }
   ],
   "source": [
    "# replicate the above method\n",
    "pattern = r'[Pp]ython'\n",
    "python_counts = hn['title'].str.contains(pattern).sum() # True value counting as 1, and each False as 0\n",
    "python_counts \n"
   ]
  },
  {
   "cell_type": "code",
   "execution_count": 8,
   "metadata": {},
   "outputs": [
    {
     "data": {
      "text/plain": [
       "190                    Ruby on Google AppEngine Goes Beta\n",
       "484          Related: Pure Ruby Relational Algebra Engine\n",
       "1388    Show HN: HTTPalooza  Ruby's greatest HTTP clie...\n",
       "1949    Rewriting a Ruby C Extension in Rust: How a Na...\n",
       "2022    Show HN: CrashBreak  Reproduce exceptions as f...\n",
       "Name: title, dtype: object"
      ]
     },
     "execution_count": 8,
     "metadata": {},
     "output_type": "execute_result"
    }
   ],
   "source": [
    "# extracting a series of the values from titles that contain Ruby or ruby.\n",
    "pattern = \"[Rr]uby\"\n",
    "\n",
    "ruby_find = hn[\"title\"].str.contains(pattern)\n",
    "ruby_titles = hn.loc[ruby_find,\"title\"]\n",
    "ruby_titles.head()"
   ]
  },
  {
   "cell_type": "markdown",
   "metadata": {},
   "source": [
    "If we wanted to write a pattern that matches the numbers in text from 1000 to 2999 we could write the regular expression \n",
    " \n",
    "`[1-2][0-9][0-9][0-9] or [1-2][0-9]{3}`({3} this type of regular expression syntax is called a **quantifier**. In this case, its a **numeric quantifier**.\n",
    "\n",
    "Quantifiers specify how many of the **previous** character our pattern requires, which can help us when we want to match substrings of specific lengths\n",
    " "
   ]
  },
  {
   "cell_type": "markdown",
   "metadata": {},
   "source": [
    " `a{3}` -> The character `a` three times\n",
    "\n",
    " `a{3,5}` ->The character `a` three, four or five times\n",
    "\n",
    " `a{,3}` ->The character `a` zero, one, two or three times\n",
    "\n",
    " `a{8,}` ->The character `a` eight or more times"
   ]
  },
  {
   "cell_type": "markdown",
   "metadata": {},
   "source": [
    "In addition to numeric quantifiers, there are **single characters** in regex that specify some common quantifiers that we're likely to use. A summary of them is below.\n",
    "\n",
    "`a*` -> equivalent to a{0,} zero or more\n",
    "\n",
    "`a+` -> equivalent to a{1,} one or more\n",
    "\n",
    "`a?` -> equivalent to a{0,1} zero or one (optional)"
   ]
  },
  {
   "cell_type": "code",
   "execution_count": 9,
   "metadata": {},
   "outputs": [
    {
     "data": {
      "text/plain": [
       "119     Show HN: Send an email from your shell to your...\n",
       "313         Disposable emails for safe spam free shopping\n",
       "1361    Ask HN: Doing cold emails? helps us prove this...\n",
       "1750    Protect yourself from spam, bots and phishing ...\n",
       "2421                   Ashley Madison hack treating email\n",
       "Name: title, dtype: object"
      ]
     },
     "execution_count": 9,
     "metadata": {},
     "output_type": "execute_result"
    }
   ],
   "source": [
    "# we're going to find how many titles in our dataset mention email or e-mail.\n",
    "\n",
    "pattern = \"e-?mail\"\n",
    "\n",
    "email_bool = hn['title'].str.contains(pattern)\n",
    "email_count = email_bool.sum()\n",
    "email_titles = hn[\"title\"][email_bool] # select only the items from titles that matched the regular expression\n",
    "email_titles.head()"
   ]
  },
  {
   "cell_type": "markdown",
   "metadata": {},
   "source": [
    "Some stories submitted to Hacker News include a topic tag in brackets, like `[pdf]`, `[video]` etc.\n",
    "\n",
    "The other critical part of our task of identifying how many titles have tags, is knowing how to match the characters between the brackets (like `pdf` and `video`) without knowing ahead of time what the different topic tags will be."
   ]
  },
  {
   "cell_type": "markdown",
   "metadata": {},
   "source": [
    "To match **unknown characters** using regular expressions, we use **character classes**. Character classes allow us to match certain groups of characters. We've actually seen two examples of character classes already:\n",
    "\n",
    "1. The **set notation** using brackets to match any of a number of characters.\n",
    "2. The **range notation**, which we used to match ranges of digits (like `[0-9]`)."
   ]
  },
  {
   "cell_type": "markdown",
   "metadata": {},
   "source": [
    "Let's look at a summary of syntax for some of the regex character classes:\n",
    "\n",
    "* `set` ->[fud] either f,u or d\n",
    "* `range` -> [a-e] any of the charachter a,b,c,d or e\n",
    "* `range` -> [0-3] any of the charachter 0,1,2 or 3\n",
    "* `range` -> [A-Z] any uppercase letter\n",
    "* `set+range` -> [A-Za-z] any uppercase or lower case letter\n",
    "\n",
    "There are two new things we can observe from this table:\n",
    "\n",
    "1. Ranges can be used for **letters** as well as **numbers**.\n",
    "2. Sets and ranges can be combined."
   ]
  },
  {
   "cell_type": "markdown",
   "metadata": {},
   "source": [
    "Just like with quantifiers, there are some other common character classes which we'll use a lot.\n",
    "\n",
    "* `Digit` -> **`\\d`** any digit character(equivalent to `[0-9]`)\n",
    "* `Word` -> **`\\w`** any digit, uppercase, lowercase or underscore character (equivalent to `[A-Za-z0-9_]`). **Does not** include any **special character** \n",
    "* `Whitepace` -> **`\\s`** any `space`, `tab` or `linebreak` character\n",
    "* `Dot` -> **`.`**  any character or special character **except newline**"
   ]
  },
  {
   "cell_type": "code",
   "execution_count": 124,
   "metadata": {},
   "outputs": [
    {
     "data": {
      "text/plain": [
       "444"
      ]
     },
     "execution_count": 124,
     "metadata": {},
     "output_type": "execute_result"
    }
   ],
   "source": [
    "# We are going to find how many titles in our dataset have tags i.e anythning in bracket[]. \n",
    "# in this case, we're just interested in single-word tags without special characters like [pdf] or [video].\n",
    "\n",
    "# The regular expression should match, in order:\n",
    "# A single open bracket character.\n",
    "# One or more word characters.\n",
    "# A single close bracket character.\n",
    "\n",
    "pattern = \"\\[\\w+\\]\" # bracket are consider to be a set so we use backslashes to escape both the open and closing brackets like \\[pdf\\]. \n",
    "# dot i.e \"\\[\\w.+\\]\" is used to cater space or punctuation character like [PHP-DEV] or [XKCD Flowchart]\n",
    "titles = hn['title']\n",
    "tag_titles = titles[titles.str.contains(pattern)]\n",
    "tag_count = tag_titles.shape[0]\n",
    "tag_count\n",
    "\n"
   ]
  },
  {
   "cell_type": "code",
   "execution_count": 17,
   "metadata": {},
   "outputs": [
    {
     "data": {
      "text/plain": [
       "66       Analysis of 114 propaganda sources from ISIS, ...\n",
       "100      Munich Gunman Got Weapon from the Darknet [Ger...\n",
       "159           File indexing and searching for Plan 9 [pdf]\n",
       "162      Attack on Kunduz Trauma Centre, Afghanistan  I...\n",
       "195                 [Beta] Speedtest.net  HTML5 Speed Test\n",
       "                               ...                        \n",
       "19867                       Using Pony for Fintech [video]\n",
       "19947                                Swift Reversing [pdf]\n",
       "19975    [FOR GIT USERS] YoLog  Lightweight Wrapper to ...\n",
       "19979    WSJ/Dowjones Announce Unauthorized Access Betw...\n",
       "20089    Users Really Do Plug in USB Drives They Find [...\n",
       "Name: title, Length: 469, dtype: object"
      ]
     },
     "execution_count": 17,
     "metadata": {},
     "output_type": "execute_result"
    }
   ],
   "source": [
    "pattern = \"\\[\\w.+\\]\" \n",
    "# pattern = \"\\[\\w+.+\\]\" # Alternate of above\n",
    "tag_titles = titles[titles.str.contains(pattern)]\n",
    "tag_titles"
   ]
  },
  {
   "cell_type": "markdown",
   "metadata": {},
   "source": [
    "We can use backslashes to escape the brackets `[` and `]` characters\n",
    "\n",
    "In Python, a backslash followed by certain characters represents an escape sequence — like the `\\n` sequence — which represents a **new line**. These escape sequences can result in unintended consequences for our regular expressions. Let's take a look at a string containing the substring `\\b`:\n",
    "\n",
    "`print('hello\\b')\n",
    "hell`\n",
    "\n",
    "The escape sequence `\\b` represents a **backspace**, so the final letter from our string is removed. The character sequence `\\b` has a special meaning in regular expressions, so we need a way to write these characters without triggering the escape sequence.\n",
    "\n",
    "One way is to add an extra backslash before the `\"b\"`:\n",
    "\n",
    "`print('hello\\\\b')\n",
    "hello\\b`\n",
    "\n",
    "This can make regular expressions even more difficult to read and interpret, so instead we use raw strings, which we denote by prefixing our string with the `r` or `R`  character. Let's take a look at the code from above with a raw string:\n",
    "\n",
    "`print(r'hello\\b')\n",
    "hello\\b`\n"
   ]
  },
  {
   "cell_type": "markdown",
   "metadata": {},
   "source": [
    "We strongly recommend using raw strings for every regex we write, rather than remember which sequences are escape sequences and using raw strings selectively."
   ]
  },
  {
   "cell_type": "markdown",
   "metadata": {},
   "source": [
    "We were able to calculate that 444 of the 20,100 Hacker News stories in our dataset contain tags. What if we wanted to find out what the text of these tags were, and how many of each are in the dataset?\n",
    "\n",
    "In order to do this, we'll need to use **capture groups**. **Capture groups** allow us to specify one or more groups within our match that we can access separately. "
   ]
  },
  {
   "cell_type": "markdown",
   "metadata": {},
   "source": [
    "We specify capture groups using parentheses `(` `)`."
   ]
  },
  {
   "cell_type": "code",
   "execution_count": 57,
   "metadata": {},
   "outputs": [
    {
     "data": {
      "text/plain": [
       "pdf      276\n",
       "video    111\n",
       "2015       3\n",
       "audio      3\n",
       "beta       2\n",
       "Name: 0, dtype: int64"
      ]
     },
     "execution_count": 57,
     "metadata": {},
     "output_type": "execute_result"
    }
   ],
   "source": [
    "pattern = r'\\[(\\w+)\\]' # parentheses is used to specify the capature group\n",
    "\n",
    "titles = hn['title']\n",
    "tag = titles.str.extract(pattern)\n",
    "tag_freq = tag[0].value_counts()\n",
    "tag_freq.head()"
   ]
  },
  {
   "cell_type": "code",
   "execution_count": 60,
   "metadata": {},
   "outputs": [
    {
     "data": {
      "text/plain": [
       "[pdf]      276\n",
       "[video]    111\n",
       "[audio]      3\n",
       "[2015]       3\n",
       "[beta]       2\n",
       "Name: 0, dtype: int64"
      ]
     },
     "execution_count": 60,
     "metadata": {},
     "output_type": "execute_result"
    }
   ],
   "source": [
    "pattern = r'(\\[\\w+\\])' # parentheses is taken out of square bracket[] to capature group with full tag\n",
    "\n",
    "titles = hn['title']\n",
    "tag = titles.str.extract(pattern)\n",
    "tag_freq = tag[0].value_counts()\n",
    "tag_freq.head()"
   ]
  },
  {
   "cell_type": "markdown",
   "metadata": {},
   "source": [
    "In reality, regular expressions are often complex. When creating complex regular expressions, we often need to work iteratively so we can find `\"bad\"` instances that match our pattern and then exclude them."
   ]
  },
  {
   "cell_type": "markdown",
   "metadata": {},
   "source": [
    "In order to work faster as we build our regular expression, it can be helpful to create a function that returns the first few matching strings:"
   ]
  },
  {
   "cell_type": "code",
   "execution_count": 18,
   "metadata": {},
   "outputs": [],
   "source": [
    "def first_10_matches(pattern):\n",
    "    all_matches = titles[titles.str.contains(pattern)]\n",
    "    first_10 = all_matches.head(10)\n",
    "    return first_10"
   ]
  },
  {
   "cell_type": "markdown",
   "metadata": {},
   "source": [
    "Another useful approach is to use an online tool like [RegExr](https://regexr.com/) that allows us to build regular expressions and includes syntax highlighting, instant matches, and regex syntax reference"
   ]
  },
  {
   "cell_type": "markdown",
   "metadata": {},
   "source": [
    "* **Negative Set** -> `[^fud]` any charachter except f,u or d\n",
    "* **Negative Set** -> `[^1-3Z\\s]` any charachter except 1,2,3,Z or Whitespace character\n",
    "* **Negative Digit** -> `\\D` any charachter except Digit character\n",
    "* **Negative Word** -> `\\W` any charachter except word character\n",
    "* **Negative whitespace** -> `\\S` any charachter except space character"
   ]
  },
  {
   "cell_type": "code",
   "execution_count": 61,
   "metadata": {},
   "outputs": [],
   "source": [
    "# Let's use the negative set [^Ss] to exclude instances like JavaScript and Javascript\n",
    "\n",
    "def first_10_matches(pattern):\n",
    "    \"\"\"\n",
    "    Return the first 10 story titles that match\n",
    "    the provided regular expression\n",
    "    \"\"\"\n",
    "    all_matches = titles[titles.str.contains(pattern)]\n",
    "    first_10 = all_matches.head(10)\n",
    "    return first_10"
   ]
  },
  {
   "cell_type": "code",
   "execution_count": 125,
   "metadata": {},
   "outputs": [
    {
     "data": {
      "text/plain": [
       "436     Unikernel Power Comes to Java, Node.js, Go, an...\n",
       "811     Ask HN: Are there any projects or compilers wh...\n",
       "1840                    Adopting RxJava on the Airbnb App\n",
       "1972          Node.js vs. Java: Which Is Faster for APIs?\n",
       "2093                    Java EE and Microservices in 2016\n",
       "2367    Code that is valid in both PHP and Java, and p...\n",
       "2493    Ask HN: I've been a java dev for a couple of y...\n",
       "2751                Eventsourcing for Java 0.4.0 released\n",
       "2910                2016 JavaOne Intel Keynote  32mn Talk\n",
       "3452    What are the Differences Between Java Platform...\n",
       "Name: title, dtype: object"
      ]
     },
     "execution_count": 125,
     "metadata": {},
     "output_type": "execute_result"
    }
   ],
   "source": [
    "pattern  = r'[Jj]ava[^Ss]' # regular expression that will match titles containing Java but not followed by the letter 'S' or 's'.\n",
    "\n",
    "java_titles = first_10_matches(pattern)\n",
    "java_titles"
   ]
  },
  {
   "cell_type": "markdown",
   "metadata": {},
   "source": [
    "While the negative set was effective in removing any bad matches that mention JavaScript, it also had the side-effect of removing any titles where **Java** occurs at the end of the string, like this title:\n",
    "\n",
    "**`Pippo  Web framework in Java`**\n",
    "\n",
    "This is because the negative set `[^Ss]` must match one character, so instances at the end of a string do not match."
   ]
  },
  {
   "cell_type": "markdown",
   "metadata": {},
   "source": [
    "A different approach to take in cases like these is to use the **word boundary anchor**, specified using the syntax `\\b`. A word boundary matches the position between a `word character` and a `non-word character`, or a `word character` and the `start/end of a string`. \n",
    "\n",
    "Word boundary anchor also consider boundary character which is immediately followed by special characters. For example\n",
    "\n",
    "Pattern = `\"\\bC\\b\"` # Find C only\n",
    "\n",
    "output  = `C`, `C++`, `C.`, `C$`  # Our patter also found C followed by special characters"
   ]
  },
  {
   "cell_type": "markdown",
   "metadata": {},
   "source": [
    "How using a word boundary changes the match from the string in the example above:\n",
    "\n",
    "`string = \"Sometimes people confuse JavaScript with Java\"`\n",
    "\n",
    "`pattern_1 = r\"Java[^S]\"\n",
    "m1 = re.search(pattern_1, string)\n",
    "print(m1)`\n",
    "\n",
    "`None`"
   ]
  },
  {
   "cell_type": "markdown",
   "metadata": {},
   "source": [
    "The regular expression returns `None`, because there is no substring that contains `Java` followed by a character that isn't `S`"
   ]
  },
  {
   "cell_type": "markdown",
   "metadata": {},
   "source": [
    "Instead use word boundaries in our regular expression:\n",
    "\n",
    "`pattern_2 = r\"\\bJava\\b\"\n",
    "m2 = re.search(pattern_2, string)\n",
    "print(m2)`\n",
    "\n",
    "`_sre.SRE_Match object; span=(41, 45), match='Java'`\n",
    "\n",
    "With the word boundary, our pattern matches the `Java` at the end of the string."
   ]
  },
  {
   "cell_type": "code",
   "execution_count": 126,
   "metadata": {},
   "outputs": [],
   "source": [
    "# using the word boundary anchor as part of our regular expression to select the titles that mention Java.\n",
    "\n",
    "pattern = r'\\b[Jj]ava\\b' # regular expression that will match titles containing Java\n",
    "# regular expressions to match pattern contained anywhere within text that contain only Jjava"
   ]
  },
  {
   "cell_type": "code",
   "execution_count": 127,
   "metadata": {},
   "outputs": [
    {
     "data": {
      "text/plain": [
       "436     Unikernel Power Comes to Java, Node.js, Go, an...\n",
       "811     Ask HN: Are there any projects or compilers wh...\n",
       "1023                         Pippo  Web framework in Java\n",
       "1972          Node.js vs. Java: Which Is Faster for APIs?\n",
       "2093                    Java EE and Microservices in 2016\n",
       "2367    Code that is valid in both PHP and Java, and p...\n",
       "2493    Ask HN: I've been a java dev for a couple of y...\n",
       "2751                Eventsourcing for Java 0.4.0 released\n",
       "3228                              Comparing Rust and Java\n",
       "3452    What are the Differences Between Java Platform...\n",
       "Name: title, dtype: object"
      ]
     },
     "execution_count": 127,
     "metadata": {},
     "output_type": "execute_result"
    }
   ],
   "source": [
    "java_titles = first_10_matches(pattern)\n",
    "java_titles"
   ]
  },
  {
   "cell_type": "code",
   "execution_count": 88,
   "metadata": {},
   "outputs": [
    {
     "name": "stdout",
     "output_type": "stream",
     "text": [
      "<re.Match object; span=(41, 45), match='Java'>\n"
     ]
    }
   ],
   "source": [
    "import re\n",
    "pattern = r'\\b[Jj]ava\\b'\n",
    "\n",
    "string = \"Sometimes people confuse JavaScript with Java\" # regular expressions to match pattern contained anywhere within text\n",
    "print(re.search(pattern, string))\n"
   ]
  },
  {
   "cell_type": "markdown",
   "metadata": {},
   "source": [
    "The **word boundary anchor** matches the space between a `word character` and a `non-word character`. More generally in regular expressions, an **anchor** matches something that isn't a character, as opposed to **character classes** which match specific characters.\n",
    "\n",
    "Other than the word boundary anchor, the other two most common anchors are the **beginning anchor** and the **ending anchor**, which represent the start and the end of the string, respectfully."
   ]
  },
  {
   "cell_type": "markdown",
   "metadata": {},
   "source": [
    "There are often scenarios where we want to specifically match a pattern at the start and end of strings."
   ]
  },
  {
   "cell_type": "markdown",
   "metadata": {},
   "source": [
    "`Anchor`|`Pattern`|`Explanation`\n",
    "\n",
    "`Begining`|`^abc`| `Matches abc at the start of the string`\n",
    "\n",
    "`End`|`abc$`|      `Matches abc at the end of the string`\n",
    "\n",
    "Note that the `^` character is used both as a **beginning anchor** and to indicate a **negative set**, depending on whether the character preceding it is a `[`or not"
   ]
  },
  {
   "cell_type": "code",
   "execution_count": 99,
   "metadata": {},
   "outputs": [
    {
     "data": {
      "text/plain": [
       "15"
      ]
     },
     "execution_count": 99,
     "metadata": {},
     "output_type": "execute_result"
    }
   ],
   "source": [
    "# Count the number of times that a tag (e.g. [pdf] or [video]) occurs at the start of a title in titles\n",
    "\n",
    "pattern_beginning = r'^\\[\\w+\\]'\n",
    "\n",
    "beginning_count = titles.str.contains(pattern_beginning).sum()\n",
    "beginning_count"
   ]
  },
  {
   "cell_type": "code",
   "execution_count": 102,
   "metadata": {},
   "outputs": [
    {
     "data": {
      "text/plain": [
       "417"
      ]
     },
     "execution_count": 102,
     "metadata": {},
     "output_type": "execute_result"
    }
   ],
   "source": [
    "pattern_ending = r'\\[\\w+\\]$'\n",
    "ending_count = titles.str.contains(pattern_ending).sum()\n",
    "ending_count"
   ]
  },
  {
   "cell_type": "markdown",
   "metadata": {},
   "source": [
    "Up until now, we've been using sets like `[Pp]` to match different capitalizations in our regular expressions. This strategy works well when there is only **one** character that has capitalization, but becomes cumbersome when we need to cater for multiple instances.\n",
    "\n",
    "Within the titles, there are many different formatting styles used to represent the word `\"email\"`. Here is a list of the variations:\n",
    "\n",
    "* email\n",
    "* Email\n",
    "* e Mail\n",
    "* e mail\n",
    "* E-mail\n",
    "* e-mail\n",
    "* eMail\n",
    "* E-Mail\n",
    "* EMAIL\n",
    "\n",
    "We can use flags to specify that our regular expression should ignore case.\n",
    "\n",
    "A [list of all available flags](https://docs.python.org/3/library/re.html#re.A) is in the documentation, but by far the most common and the most useful is the `re.IGNORECASE` flag, which is also available using the alias `re.I` for convenience."
   ]
  },
  {
   "cell_type": "markdown",
   "metadata": {},
   "source": [
    "When we use this flag, all uppercase letters will match their lowercase equivalents and vice versa. Let's look at an example without using the flag:"
   ]
  },
  {
   "cell_type": "code",
   "execution_count": 19,
   "metadata": {},
   "outputs": [
    {
     "data": {
      "text/plain": [
       "0     True\n",
       "1    False\n",
       "2    False\n",
       "3    False\n",
       "dtype: bool"
      ]
     },
     "execution_count": 19,
     "metadata": {},
     "output_type": "execute_result"
    }
   ],
   "source": [
    "email_tests = pd.Series(['email', 'Email', 'eMail', 'EMAIL'])\n",
    "\n",
    "email_tests.str.contains(r\"email\")"
   ]
  },
  {
   "cell_type": "code",
   "execution_count": 20,
   "metadata": {},
   "outputs": [
    {
     "data": {
      "text/plain": [
       "0    True\n",
       "1    True\n",
       "2    True\n",
       "3    True\n",
       "dtype: bool"
      ]
     },
     "execution_count": 20,
     "metadata": {},
     "output_type": "execute_result"
    }
   ],
   "source": [
    "# Now let's look at what happens when we use the flag:\n",
    "\n",
    "import re\n",
    "\n",
    "email_tests.str.contains(r\"email\",flags=re.I)"
   ]
  },
  {
   "cell_type": "code",
   "execution_count": 128,
   "metadata": {},
   "outputs": [
    {
     "data": {
      "text/plain": [
       "151"
      ]
     },
     "execution_count": 128,
     "metadata": {},
     "output_type": "execute_result"
    }
   ],
   "source": [
    "import re\n",
    "pattern = r'e-?\\s?mail' # or  r'e[-\\s]?mail'\n",
    "\n",
    "\n",
    "email_mentions = titles[titles.str.contains(pattern, flags = re.I)].shape[0]\n",
    "email_mentions"
   ]
  },
  {
   "cell_type": "code",
   "execution_count": 129,
   "metadata": {},
   "outputs": [
    {
     "data": {
      "text/plain": [
       "array([nan, 'email', 'Email', 'e Mail', 'e mail', 'E-mail', 'e-mail',\n",
       "       'eMail', 'E-Mail', 'EMAIL'], dtype=object)"
      ]
     },
     "execution_count": 129,
     "metadata": {},
     "output_type": "execute_result"
    }
   ],
   "source": [
    "pattern = r'(e-?\\s?mail)' # or  r'(e[-\\s]?mail)'\n",
    "titles.str.extract(pattern, flags = re.I)[0].unique()"
   ]
  },
  {
   "cell_type": "code",
   "execution_count": null,
   "metadata": {},
   "outputs": [],
   "source": []
  }
 ],
 "metadata": {
  "kernelspec": {
   "display_name": "Python 3",
   "language": "python",
   "name": "python3"
  },
  "language_info": {
   "codemirror_mode": {
    "name": "ipython",
    "version": 3
   },
   "file_extension": ".py",
   "mimetype": "text/x-python",
   "name": "python",
   "nbconvert_exporter": "python",
   "pygments_lexer": "ipython3",
   "version": "3.7.6"
  }
 },
 "nbformat": 4,
 "nbformat_minor": 2
}
