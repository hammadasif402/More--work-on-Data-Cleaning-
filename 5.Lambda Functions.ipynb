{
 "cells": [
  {
   "cell_type": "markdown",
   "metadata": {},
   "source": [
    "In this file, we'll work on string manipulation, which is essential to working with data that's represented as text. Similar to a list, string objects are indexed so we can access specific characters quickly.\n",
    "\n",
    "We can also use the index to slice string objects, or select the fragments we want and pull them out."
   ]
  },
  {
   "cell_type": "markdown",
   "metadata": {},
   "source": [
    "What if we want to select every odd character in a string? Specifically, how do we select all of the characters at indices 1, 3, 5, and so on? \n",
    "\n",
    "We can enter a third number in our range that controls the distance between each character we want to select. This value is known as the **step** value, which is 1 by default."
   ]
  },
  {
   "cell_type": "markdown",
   "metadata": {},
   "source": [
    "`odds = my_string[1:8:2]`\n",
    "\n",
    "The slice `[1:8:2]` specifies that we want to start the substring at index `1`, and add `2` to the index each time until it observes or exceeds index `8`."
   ]
  },
  {
   "cell_type": "markdown",
   "metadata": {},
   "source": [
    "We can also use negative values to index and slice string objects. Negative indexing allows us to step backwards by specifying a negative number for the step value."
   ]
  },
  {
   "cell_type": "code",
   "execution_count": 1,
   "metadata": {},
   "outputs": [],
   "source": [
    "def is_palindrome(my_string):\n",
    "    if my_string == my_string[::-1]:\n",
    "        return True\n",
    "    else:\n",
    "        return False\n",
    "    \n",
    "phrase_palindrome = is_palindrome(\"able was I ere I saw elba\")"
   ]
  },
  {
   "cell_type": "markdown",
   "metadata": {},
   "source": [
    "A palindrome is a word or string that's spelled the same way forwards and backwards. `\"racecar\"` is a palindrome because reading it from left to right gives us the same result as reading it from right to left."
   ]
  },
  {
   "cell_type": "markdown",
   "metadata": {},
   "source": [
    "Like many programming languages, Python treats functions as first-class citizens. This means we can pass functions in as arguments to other functions, just like we can with objects."
   ]
  },
  {
   "cell_type": "markdown",
   "metadata": {},
   "source": [
    "To understand why we use first-class functions, let's consider an example.\n",
    "\n",
    "Suppose we have a long list of floating point numbers, and we need to convert them to integers. While we could use a list comprehension, Python has a built-in function called **map()** that we can use instead. For example, the code **map(func, ls)** iterates through a list `ls`, and runs `func` on every item in that list. In this case, `func` might contain logic that converts floating point numbers to integers."
   ]
  },
  {
   "cell_type": "code",
   "execution_count": 2,
   "metadata": {},
   "outputs": [
    {
     "name": "stdout",
     "output_type": "stream",
     "text": [
      "[1, 2, 199, 56]\n"
     ]
    }
   ],
   "source": [
    "ints = list(map(int, [1.5, 2.4, 199.7, 56.0]))\n",
    "print(ints)"
   ]
  },
  {
   "cell_type": "markdown",
   "metadata": {},
   "source": [
    "Recall that string objects are indexed like list objects, so we can treat them the same way when it comes to selecting values.\n",
    "\n",
    "That means that we can use the `len()` function to calculate the length of a string, just like we can use it to calculate the length of a list."
   ]
  },
  {
   "cell_type": "code",
   "execution_count": 8,
   "metadata": {},
   "outputs": [],
   "source": [
    "passwords = [\"abc\",\"12345\",\"12er82\",\"ac45xz\", \"abccba\"]\n",
    "password_lengths = list(map(len, passwords))\n",
    "avg_password_length = sum(password_lengths)/len(password_lengths)"
   ]
  },
  {
   "cell_type": "markdown",
   "metadata": {},
   "source": [
    "Many functions take advantage of first-class functions to simplify their logic. A common example is the **filter()** function, which takes a `func argument` and an `ls argument` (in that order), and returns a list of all of the elements in `ls` for which `func` evaluates to `True`. In other words, it filters out every element that evaluates to `False` when we call `func` on that argument.\n",
    "\n",
    "Just like with `map()`, we need to cast the result of a `filter()` to a list using the `list()` function."
   ]
  },
  {
   "cell_type": "code",
   "execution_count": 9,
   "metadata": {},
   "outputs": [],
   "source": [
    "palindrome_passwords = list(filter(is_palindrome, passwords))"
   ]
  },
  {
   "cell_type": "code",
   "execution_count": 10,
   "metadata": {},
   "outputs": [
    {
     "data": {
      "text/plain": [
       "['abccba']"
      ]
     },
     "execution_count": 10,
     "metadata": {},
     "output_type": "execute_result"
    }
   ],
   "source": [
    "palindrome_passwords"
   ]
  },
  {
   "cell_type": "markdown",
   "metadata": {},
   "source": [
    "# lambda functions"
   ]
  },
  {
   "cell_type": "markdown",
   "metadata": {},
   "source": [
    "Now let's talk about lambda functions, which we also call `anonymous functions`. We use lambda functions when we only want to run a function once, and don't need to save it for reuse.\n",
    "\n",
    "The syntax is different than what we've been exposed to before. Syntactically, we represent a lambda function like this:\n",
    "\n",
    "`lambda arg1, arg2, etc. : perform task on arg1 and arg2`"
   ]
  },
  {
   "cell_type": "markdown",
   "metadata": {},
   "source": [
    "So, `lambda x : x ** 2` is a lambda function that takes a parameter `x` and `squares` it. Lambda functions can have multiple arguments as well. For instance, `lambda x, y : x + y` is a lambda function that takes two parameters and adds them together.\n",
    "\n",
    "Passing a lambda function into another function is similar to passing a value into a function, rather than a variable. Instead of referring to our function by name (for instance, `my_func()`), we're simply passing the function in as a raw value. This is analogous to passing in `\"hello world\"` instead of `my_string`."
   ]
  },
  {
   "cell_type": "code",
   "execution_count": 11,
   "metadata": {},
   "outputs": [
    {
     "name": "stdout",
     "output_type": "stream",
     "text": [
      "[2, 4, 6, 8, 10]\n"
     ]
    }
   ],
   "source": [
    "numbers = [1, 2, 3, 4, 5, 6, 7, 8, 9, 10]\n",
    "evens = list(filter(lambda x : x % 2 == 0, numbers))\n",
    "print(evens)"
   ]
  },
  {
   "cell_type": "code",
   "execution_count": 12,
   "metadata": {},
   "outputs": [],
   "source": [
    "palindrome_passwords = list(filter(lambda x: x == x[::-1], passwords))"
   ]
  },
  {
   "cell_type": "markdown",
   "metadata": {},
   "source": [
    "Remember that we should only use lambda functions when we're positive that we won't use a function somewhere else in our code.\n",
    "\n",
    "Using `x` or another short variable for lambda functions is a convention that makes them easier to read."
   ]
  },
  {
   "cell_type": "code",
   "execution_count": 13,
   "metadata": {},
   "outputs": [],
   "source": [
    "weak_passwords = list(filter(lambda x: len(x) < 6, passwords)) \n",
    "medium_passwords = list(filter(lambda x : len(x) >= 6 and len(x) <= 10, passwords))\n",
    "strong_passwords = list(filter(lambda x : len(x) > 10, passwords))"
   ]
  }
 ],
 "metadata": {
  "kernelspec": {
   "display_name": "Python 3",
   "language": "python",
   "name": "python3"
  },
  "language_info": {
   "codemirror_mode": {
    "name": "ipython",
    "version": 3
   },
   "file_extension": ".py",
   "mimetype": "text/x-python",
   "name": "python",
   "nbconvert_exporter": "python",
   "pygments_lexer": "ipython3",
   "version": "3.7.6"
  }
 },
 "nbformat": 4,
 "nbformat_minor": 2
}
